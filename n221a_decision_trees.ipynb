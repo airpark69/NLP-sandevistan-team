{
  "nbformat": 4,
  "nbformat_minor": 0,
  "metadata": {
    "kernelspec": {
      "display_name": "Python 3",
      "language": "python",
      "name": "python3"
    },
    "language_info": {
      "codemirror_mode": {
        "name": "ipython",
        "version": 3
      },
      "file_extension": ".py",
      "mimetype": "text/x-python",
      "name": "python",
      "nbconvert_exporter": "python",
      "pygments_lexer": "ipython3",
      "version": "3.7.7"
    },
    "colab": {
      "name": "n221a-decision-trees",
      "provenance": [],
      "include_colab_link": true
    }
  },
  "cells": [
    {
      "cell_type": "markdown",
      "metadata": {
        "id": "view-in-github",
        "colab_type": "text"
      },
      "source": [
        "<a href=\"https://colab.research.google.com/github/JiseokSeo/-I-studied-/blob/main/n221a_decision_trees.ipynb\" target=\"_parent\"><img src=\"https://colab.research.google.com/assets/colab-badge.svg\" alt=\"Open In Colab\"/></a>"
      ]
    },
    {
      "cell_type": "markdown",
      "source": [
        "<img align=\"right\" src=\"https://ds-cs-images.s3.ap-northeast-2.amazonaws.com/Codestates_Fulllogo_Color.png\" width=100>\n",
        "\n",
        "## *AIB / SECTION 2 / SPRINT 2 / NOTE 1*\n",
        "\n",
        "# 📝 Assignment\n",
        "---"
      ],
      "metadata": {
        "id": "MFMvqS8sNtC0"
      }
    },
    {
      "cell_type": "markdown",
      "source": [
        "# Decision Trees(결정트리)"
      ],
      "metadata": {
        "id": "xtmUWt2ANtC3"
      }
    },
    {
      "cell_type": "markdown",
      "source": [
        "## 캐글 인클래스(InClass) Competitions\n",
        "\n",
        "### 1) 대회 참여(Join) 및 데이터셋 준비\n",
        "\n",
        "- [캐글 계정을 만드세요](https://www.kaggle.com/), 공유된 인클래스 대회 url을 통해 이동한 후 대회에 참여하세요.\n",
        "- H1N1 데이터를 훈련/검증/테스트 셋으로 나누어 준비하세요\n",
        "- **(Urclass Quiz) 훈련데이터셋을 사용해 H1N1 타겟으로 기준모델을 설정하세요. 기준모델의 정확도를 제출하세요.**\n",
        "    1. 0.24\n",
        "    2. 0.50\n",
        "    3. 0.76\n",
        "    4. 1\n"
      ],
      "metadata": {
        "id": "bxkLmvbENtC4"
      }
    },
    {
      "cell_type": "code",
      "execution_count": null,
      "source": [
        "3"
      ],
      "outputs": [],
      "metadata": {
        "id": "qkBRjWZUNtC5"
      }
    },
    {
      "cell_type": "markdown",
      "source": [
        "### 2) 데이터 EDA 및 특성공학 수행\n",
        "- profiling을 사용하여 데이터를 살펴보고, missing value, zeros, cardinarity 등을 확인하여 처리하세요.\n",
        "- 본인만의 특성공학을 수행하세요.\n"
      ],
      "metadata": {
        "id": "GHoSeso3NtC6"
      }
    },
    {
      "cell_type": "code",
      "execution_count": null,
      "source": [
        "0.50583"
      ],
      "outputs": [],
      "metadata": {
        "id": "0NheFKIbNtC6"
      }
    },
    {
      "cell_type": "markdown",
      "source": [
        "\n",
        "### 3) 모델링 수행\n",
        "- 결정트리를 학습시킵니다. 하이퍼파라미터를 수정하여 성능을 높여보세요. 과적합을 주의하세요!\n",
        "- 검증세트 스코어를 확인하세요.(평가지표는 F1-score입니다, 수식은 캐글 Overview-Evaluation 페이지를 확인해 주세요. 평가지표에 대한 내용은 다음에 자세히 배우고 활용할 것입니다 지금은 스코어를 올리기 위한 노력을 전혀 기울이지 말고 결정트리의 개념과 코드이해, 사용에 집중하세요!)\n",
        "- 특성중요도를 그래프로 나타내 보세요\n",
        "- **(Urclass Quiz) 검증세트의 F1-score를 제출하세요. (0.5 이상 통과)**"
      ],
      "metadata": {
        "id": "SXfChANSOLvp"
      }
    },
    {
      "cell_type": "code",
      "execution_count": null,
      "source": [
        "0.50583"
      ],
      "outputs": [],
      "metadata": {
        "id": "nWw6o4G4ONPz"
      }
    },
    {
      "cell_type": "markdown",
      "source": [
        "### 4) 테스트셋 예측 결과 제출(Submission)\n",
        "\n",
        "- 테스트셋에 대한 예측 결과를 캐글에 제출 하세요.(스코어가 많이 낮게 나와도 결정트리를 잘 이해하고 결과를 내었다면 충분합니다!)\n",
        "- **(Urclass Quiz) 캐글 Leaderboard의 본인 Score를 제출하세요.**\n",
        " "
      ],
      "metadata": {
        "id": "mL7YOdyaNtC7"
      }
    },
    {
      "cell_type": "markdown",
      "source": [
        "## 🔥 도전과제(Github - Discussion)"
      ],
      "metadata": {
        "id": "0AKCn85yNtC8"
      }
    },
    {
      "cell_type": "markdown",
      "source": [
        "### 5) 2개 이상의 imputer를 사용해 각각 특성-타겟 관계 그래프를 그려 공유하고 다음 질문에 대해 서로 논의해 보세요. \n",
        "- scikit-learn imputer([scikit-learn imputers](https://scikit-learn.org/stable/modules/impute.html))\n",
        "- seaborn plots 사용하여 관심있는 특성들과 target간의 관계를 그래프로 나타내 보세요.\n",
        "- 사용하신 imputer는 각각 어떤 장단점을 갖고 있으며 어떤 상황에서 사용하면 좋을까요? \n",
        "- 만드신 특성-타겟 관계 그래프에서 차이점이 있다면 무엇이고, 왜 그런 차이가 발생했다고 생각하시나요? \n",
        "- [Seaborn \"Categorical estimate\" plots](https://seaborn.pydata.org/tutorial/categorical.html)\n",
        "- [Seaborn linear model plots](https://seaborn.pydata.org/tutorial/regression.html)"
      ],
      "metadata": {
        "id": "OxFu5qVpNtC9"
      }
    },
    {
      "cell_type": "code",
      "execution_count": null,
      "source": [
        "### 이곳에서 과제를 진행해 주세요 ###"
      ],
      "outputs": [],
      "metadata": {
        "id": "zIAEwmBDNtC9"
      }
    }
  ]
}