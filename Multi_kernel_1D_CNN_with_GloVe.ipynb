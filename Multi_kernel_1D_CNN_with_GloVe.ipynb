{
  "nbformat": 4,
  "nbformat_minor": 0,
  "metadata": {
    "colab": {
      "provenance": [],
      "include_colab_link": true
    },
    "kernelspec": {
      "name": "python3",
      "display_name": "Python 3"
    },
    "accelerator": "GPU",
    "gpuClass": "standard"
  },
  "cells": [
    {
      "cell_type": "markdown",
      "metadata": {
        "id": "view-in-github",
        "colab_type": "text"
      },
      "source": [
        "<a href=\"https://colab.research.google.com/github/airpark69/-I-studied-/blob/main/Multi_kernel_1D_CNN_with_GloVe.ipynb\" target=\"_parent\"><img src=\"https://colab.research.google.com/assets/colab-badge.svg\" alt=\"Open In Colab\"/></a>"
      ]
    },
    {
      "cell_type": "markdown",
      "metadata": {
        "id": "p36hSZiX6RNF"
      },
      "source": [
        "# 패키지 설치하기\n",
        "\n",
        "TPU 관련 패키지를 설치합니다. TPU 사용시 아래 라인 첫 문자(#)를 지우고 수행하세요. GPU를 쓴다면 아래 라인을 실행할 필요가 없습니다."
      ]
    },
    {
      "cell_type": "code",
      "source": [
        "import tensorflow as tf\n",
        "import os\n",
        "\n",
        "resolver = tf.distribute.cluster_resolver.TPUClusterResolver(tpu='grpc://' + os.environ['COLAB_TPU_ADDR'])\n",
        "\n",
        "tf.config.experimental_connect_to_cluster(resolver)\n",
        "tf.tpu.experimental.initialize_tpu_system(resolver)"
      ],
      "metadata": {
        "id": "Zz3qqH2IfZHA"
      },
      "execution_count": null,
      "outputs": []
    },
    {
      "cell_type": "code",
      "source": [
        "strategy = tf.distribute.TPUStrategy(resolver)"
      ],
      "metadata": {
        "id": "7k07mhcffj7A"
      },
      "execution_count": null,
      "outputs": []
    },
    {
      "cell_type": "code",
      "source": [
        "def create_model():\n",
        "   return tf.keras.Sequential(\n",
        "        [tf.keras.layers.Conv2D(256, 3, activation='relu', input_shape=(28, 28,\n",
        "            1)),\n",
        "        tf.keras.layers.Conv2D(256, 3, activation='relu'),\n",
        "        tf.keras.layers.Flatten(),\n",
        "        tf.keras.layers.Dense(256, activation='relu'),\n",
        "        tf.keras.layers.Dense(128, activation='relu'),\n",
        "        tf.keras.layers.Dense(10)])"
      ],
      "metadata": {
        "id": "ERGacL81fmNW"
      },
      "execution_count": null,
      "outputs": []
    },
    {
      "cell_type": "code",
      "source": [
        "with strategy.scope():\n",
        "  model = create_model()\n",
        "  model.compile(optimizer='adam',\n",
        "                loss=tf.keras.losses.SparseCategoricalCrossentropy(from_logits=\n",
        "                True),\n",
        "                metrics=['sparse_categorical_accuracy'])"
      ],
      "metadata": {
        "id": "8Kt79cTsfojp"
      },
      "execution_count": null,
      "outputs": []
    },
    {
      "cell_type": "markdown",
      "metadata": {
        "id": "YixrCxo8O8N_"
      },
      "source": [
        "TPU 이외에 의존성 있는 패키지를 설치합니다."
      ]
    },
    {
      "cell_type": "markdown",
      "metadata": {
        "id": "Skjaa0Gk6d_X"
      },
      "source": [
        "# 구글 드라이브 연동하기\n",
        "모델 체크포인트 등을 저장해 둘 구글 드라이브를 연결합니다. 자신의 구글 계정에 적용됩니다."
      ]
    },
    {
      "cell_type": "code",
      "source": [
        "import os\n",
        "import pandas as pd\n",
        "import numpy as np\n",
        "import matplotlib.pyplot as plt\n",
        "import urllib.request\n",
        "from sklearn import preprocessing\n",
        "from tensorflow.keras.preprocessing.text import Tokenizer\n",
        "from tensorflow.keras.preprocessing.sequence import pad_sequences\n",
        "from tensorflow.keras.utils import to_categorical\n",
        "from sklearn.metrics import classification_report"
      ],
      "metadata": {
        "id": "dV3DzWTwjn0C"
      },
      "execution_count": null,
      "outputs": []
    },
    {
      "cell_type": "code",
      "metadata": {
        "id": "QQCGKzLXJuED",
        "colab": {
          "base_uri": "https://localhost:8080/"
        },
        "outputId": "323665a9-1f91-4190-d1bb-d9d84bcb0ffd"
      },
      "source": [
        "from google.colab import drive\n",
        "drive.mount('/gdrive', force_remount=True)"
      ],
      "execution_count": null,
      "outputs": [
        {
          "output_type": "stream",
          "name": "stdout",
          "text": [
            "Mounted at /gdrive\n"
          ]
        }
      ]
    },
    {
      "cell_type": "markdown",
      "source": [
        "# 체크포인트 설정"
      ],
      "metadata": {
        "id": "f6F2ryDwmIcQ"
      }
    },
    {
      "cell_type": "code",
      "source": [
        "pip install pyyaml h5py"
      ],
      "metadata": {
        "colab": {
          "base_uri": "https://localhost:8080/"
        },
        "id": "e4WL9JYjmKzG",
        "outputId": "f909f8e0-0c70-4e6d-b79a-afb39d036810"
      },
      "execution_count": null,
      "outputs": [
        {
          "output_type": "stream",
          "name": "stdout",
          "text": [
            "Looking in indexes: https://pypi.org/simple, https://us-python.pkg.dev/colab-wheels/public/simple/\n",
            "Requirement already satisfied: pyyaml in /usr/local/lib/python3.8/dist-packages (6.0)\n",
            "Requirement already satisfied: h5py in /usr/local/lib/python3.8/dist-packages (3.1.0)\n",
            "Requirement already satisfied: numpy>=1.17.5 in /usr/local/lib/python3.8/dist-packages (from h5py) (1.21.6)\n"
          ]
        }
      ]
    },
    {
      "cell_type": "code",
      "source": [
        "df = df[~df['sku'].isna()]"
      ],
      "metadata": {
        "id": "EkQtQmG7JcGc"
      },
      "execution_count": null,
      "outputs": []
    },
    {
      "cell_type": "code",
      "source": [
        "df.columns"
      ],
      "metadata": {
        "colab": {
          "base_uri": "https://localhost:8080/"
        },
        "id": "2qa1Ds6QL20W",
        "outputId": "9953debf-8c3a-40dc-8ff9-e23a9a0519e5"
      },
      "execution_count": null,
      "outputs": [
        {
          "output_type": "execute_result",
          "data": {
            "text/plain": [
              "Index(['item_id', 'status', 'created_at', 'sku', 'price', 'qty_ordered',\n",
              "       'grand_total', 'increment_id', 'category_name_1',\n",
              "       'sales_commission_code', 'discount_amount', 'payment_method',\n",
              "       'Working Date', 'BI Status', ' MV ', 'Year', 'Month', 'Customer Since',\n",
              "       'M-Y', 'FY', 'Customer ID', 'Unnamed: 21', 'Unnamed: 22', 'Unnamed: 23',\n",
              "       'Unnamed: 24', 'Unnamed: 25'],\n",
              "      dtype='object')"
            ]
          },
          "metadata": {},
          "execution_count": 9
        }
      ]
    },
    {
      "cell_type": "code",
      "source": [
        "df = df[['sku', 'category_name_1']].dropna()"
      ],
      "metadata": {
        "id": "4FhFrAK9MJXm"
      },
      "execution_count": null,
      "outputs": []
    },
    {
      "cell_type": "code",
      "source": [
        "df = df[df['category_name_1'] != '\\\\N']"
      ],
      "metadata": {
        "id": "q48GHh9qN1DD"
      },
      "execution_count": null,
      "outputs": []
    },
    {
      "cell_type": "code",
      "source": [
        "df.head(10)"
      ],
      "metadata": {
        "id": "4bH_Ua3i0O7D",
        "outputId": "308c267e-c32f-46cc-80f9-8f9ad33f75c0",
        "colab": {
          "base_uri": "https://localhost:8080/"
        }
      },
      "execution_count": null,
      "outputs": [
        {
          "output_type": "execute_result",
          "data": {
            "text/plain": [
              "                                                 sku    category_name_1\n",
              "0                                  kreations_YI 06-L    Women's Fashion\n",
              "1  kcc_Buy 2 Frey Air Freshener & Get 1 Kasual Bo...  Beauty & Grooming\n",
              "2                                 Ego_UP0017-999-MR0    Women's Fashion\n",
              "3                                     kcc_krone deal  Beauty & Grooming\n",
              "4                                        BK7010400AG            Soghaat\n",
              "5                      UK_Namkino All In One 200 Gms            Soghaat\n",
              "6                                     kcc_krone deal  Beauty & Grooming\n",
              "7                       UK_Namkino Mix Nimco 400 Gms            Soghaat\n",
              "8                               Apple iPhone 6S 64GB  Mobiles & Tablets\n",
              "9                               Apple iPhone 6S 64GB  Mobiles & Tablets"
            ],
            "text/html": [
              "\n",
              "  <div id=\"df-b2b38da0-929c-4f35-96fc-6383c5023936\">\n",
              "    <div class=\"colab-df-container\">\n",
              "      <div>\n",
              "<style scoped>\n",
              "    .dataframe tbody tr th:only-of-type {\n",
              "        vertical-align: middle;\n",
              "    }\n",
              "\n",
              "    .dataframe tbody tr th {\n",
              "        vertical-align: top;\n",
              "    }\n",
              "\n",
              "    .dataframe thead th {\n",
              "        text-align: right;\n",
              "    }\n",
              "</style>\n",
              "<table border=\"1\" class=\"dataframe\">\n",
              "  <thead>\n",
              "    <tr style=\"text-align: right;\">\n",
              "      <th></th>\n",
              "      <th>sku</th>\n",
              "      <th>category_name_1</th>\n",
              "    </tr>\n",
              "  </thead>\n",
              "  <tbody>\n",
              "    <tr>\n",
              "      <th>0</th>\n",
              "      <td>kreations_YI 06-L</td>\n",
              "      <td>Women's Fashion</td>\n",
              "    </tr>\n",
              "    <tr>\n",
              "      <th>1</th>\n",
              "      <td>kcc_Buy 2 Frey Air Freshener &amp; Get 1 Kasual Bo...</td>\n",
              "      <td>Beauty &amp; Grooming</td>\n",
              "    </tr>\n",
              "    <tr>\n",
              "      <th>2</th>\n",
              "      <td>Ego_UP0017-999-MR0</td>\n",
              "      <td>Women's Fashion</td>\n",
              "    </tr>\n",
              "    <tr>\n",
              "      <th>3</th>\n",
              "      <td>kcc_krone deal</td>\n",
              "      <td>Beauty &amp; Grooming</td>\n",
              "    </tr>\n",
              "    <tr>\n",
              "      <th>4</th>\n",
              "      <td>BK7010400AG</td>\n",
              "      <td>Soghaat</td>\n",
              "    </tr>\n",
              "    <tr>\n",
              "      <th>5</th>\n",
              "      <td>UK_Namkino All In One 200 Gms</td>\n",
              "      <td>Soghaat</td>\n",
              "    </tr>\n",
              "    <tr>\n",
              "      <th>6</th>\n",
              "      <td>kcc_krone deal</td>\n",
              "      <td>Beauty &amp; Grooming</td>\n",
              "    </tr>\n",
              "    <tr>\n",
              "      <th>7</th>\n",
              "      <td>UK_Namkino Mix Nimco 400 Gms</td>\n",
              "      <td>Soghaat</td>\n",
              "    </tr>\n",
              "    <tr>\n",
              "      <th>8</th>\n",
              "      <td>Apple iPhone 6S 64GB</td>\n",
              "      <td>Mobiles &amp; Tablets</td>\n",
              "    </tr>\n",
              "    <tr>\n",
              "      <th>9</th>\n",
              "      <td>Apple iPhone 6S 64GB</td>\n",
              "      <td>Mobiles &amp; Tablets</td>\n",
              "    </tr>\n",
              "  </tbody>\n",
              "</table>\n",
              "</div>\n",
              "      <button class=\"colab-df-convert\" onclick=\"convertToInteractive('df-b2b38da0-929c-4f35-96fc-6383c5023936')\"\n",
              "              title=\"Convert this dataframe to an interactive table.\"\n",
              "              style=\"display:none;\">\n",
              "        \n",
              "  <svg xmlns=\"http://www.w3.org/2000/svg\" height=\"24px\"viewBox=\"0 0 24 24\"\n",
              "       width=\"24px\">\n",
              "    <path d=\"M0 0h24v24H0V0z\" fill=\"none\"/>\n",
              "    <path d=\"M18.56 5.44l.94 2.06.94-2.06 2.06-.94-2.06-.94-.94-2.06-.94 2.06-2.06.94zm-11 1L8.5 8.5l.94-2.06 2.06-.94-2.06-.94L8.5 2.5l-.94 2.06-2.06.94zm10 10l.94 2.06.94-2.06 2.06-.94-2.06-.94-.94-2.06-.94 2.06-2.06.94z\"/><path d=\"M17.41 7.96l-1.37-1.37c-.4-.4-.92-.59-1.43-.59-.52 0-1.04.2-1.43.59L10.3 9.45l-7.72 7.72c-.78.78-.78 2.05 0 2.83L4 21.41c.39.39.9.59 1.41.59.51 0 1.02-.2 1.41-.59l7.78-7.78 2.81-2.81c.8-.78.8-2.07 0-2.86zM5.41 20L4 18.59l7.72-7.72 1.47 1.35L5.41 20z\"/>\n",
              "  </svg>\n",
              "      </button>\n",
              "      \n",
              "  <style>\n",
              "    .colab-df-container {\n",
              "      display:flex;\n",
              "      flex-wrap:wrap;\n",
              "      gap: 12px;\n",
              "    }\n",
              "\n",
              "    .colab-df-convert {\n",
              "      background-color: #E8F0FE;\n",
              "      border: none;\n",
              "      border-radius: 50%;\n",
              "      cursor: pointer;\n",
              "      display: none;\n",
              "      fill: #1967D2;\n",
              "      height: 32px;\n",
              "      padding: 0 0 0 0;\n",
              "      width: 32px;\n",
              "    }\n",
              "\n",
              "    .colab-df-convert:hover {\n",
              "      background-color: #E2EBFA;\n",
              "      box-shadow: 0px 1px 2px rgba(60, 64, 67, 0.3), 0px 1px 3px 1px rgba(60, 64, 67, 0.15);\n",
              "      fill: #174EA6;\n",
              "    }\n",
              "\n",
              "    [theme=dark] .colab-df-convert {\n",
              "      background-color: #3B4455;\n",
              "      fill: #D2E3FC;\n",
              "    }\n",
              "\n",
              "    [theme=dark] .colab-df-convert:hover {\n",
              "      background-color: #434B5C;\n",
              "      box-shadow: 0px 1px 3px 1px rgba(0, 0, 0, 0.15);\n",
              "      filter: drop-shadow(0px 1px 2px rgba(0, 0, 0, 0.3));\n",
              "      fill: #FFFFFF;\n",
              "    }\n",
              "  </style>\n",
              "\n",
              "      <script>\n",
              "        const buttonEl =\n",
              "          document.querySelector('#df-b2b38da0-929c-4f35-96fc-6383c5023936 button.colab-df-convert');\n",
              "        buttonEl.style.display =\n",
              "          google.colab.kernel.accessAllowed ? 'block' : 'none';\n",
              "\n",
              "        async function convertToInteractive(key) {\n",
              "          const element = document.querySelector('#df-b2b38da0-929c-4f35-96fc-6383c5023936');\n",
              "          const dataTable =\n",
              "            await google.colab.kernel.invokeFunction('convertToInteractive',\n",
              "                                                     [key], {});\n",
              "          if (!dataTable) return;\n",
              "\n",
              "          const docLinkHtml = 'Like what you see? Visit the ' +\n",
              "            '<a target=\"_blank\" href=https://colab.research.google.com/notebooks/data_table.ipynb>data table notebook</a>'\n",
              "            + ' to learn more about interactive tables.';\n",
              "          element.innerHTML = '';\n",
              "          dataTable['output_type'] = 'display_data';\n",
              "          await google.colab.output.renderOutput(dataTable, element);\n",
              "          const docLink = document.createElement('div');\n",
              "          docLink.innerHTML = docLinkHtml;\n",
              "          element.appendChild(docLink);\n",
              "        }\n",
              "      </script>\n",
              "    </div>\n",
              "  </div>\n",
              "  "
            ]
          },
          "metadata": {},
          "execution_count": 37
        }
      ]
    },
    {
      "cell_type": "code",
      "source": [
        "df['category_name_1'].value_counts(normalize=True)"
      ],
      "metadata": {
        "colab": {
          "base_uri": "https://localhost:8080/"
        },
        "id": "Dd3g3qV9NVAr",
        "outputId": "301d3681-9b37-4334-9b00-30939b71a82a"
      },
      "execution_count": null,
      "outputs": [
        {
          "output_type": "execute_result",
          "data": {
            "text/plain": [
              "Mobiles & Tablets     0.200709\n",
              "Men's Fashion         0.159965\n",
              "Women's Fashion       0.103591\n",
              "Appliances            0.090915\n",
              "Superstore            0.075650\n",
              "Beauty & Grooming     0.071978\n",
              "Soghaat               0.058995\n",
              "Others                0.050681\n",
              "Home & Living         0.045973\n",
              "Entertainment         0.045659\n",
              "Health & Sports       0.030359\n",
              "Kids & Baby           0.028610\n",
              "Computing             0.027637\n",
              "School & Education    0.006033\n",
              "Books                 0.003244\n",
              "Name: category_name_1, dtype: float64"
            ]
          },
          "metadata": {},
          "execution_count": 23
        }
      ]
    },
    {
      "cell_type": "code",
      "source": [
        "df.to_csv('paki_ecommerce_clean.csv', index=False)"
      ],
      "metadata": {
        "id": "7DQRfE0bMjOq"
      },
      "execution_count": null,
      "outputs": []
    },
    {
      "cell_type": "code",
      "source": [
        "df['category_name_1'].value_counts().index"
      ],
      "metadata": {
        "colab": {
          "base_uri": "https://localhost:8080/"
        },
        "id": "cs90eeb5PCeI",
        "outputId": "0a21fbaf-c3ac-4bdb-cf9f-511f71944d3d"
      },
      "execution_count": null,
      "outputs": [
        {
          "output_type": "execute_result",
          "data": {
            "text/plain": [
              "Index(['Mobiles & Tablets', 'Men's Fashion', 'Women's Fashion', 'Appliances',\n",
              "       'Superstore', 'Beauty & Grooming', 'Soghaat', 'Others', 'Home & Living',\n",
              "       'Entertainment', 'Health & Sports', 'Kids & Baby', 'Computing',\n",
              "       'School & Education', 'Books'],\n",
              "      dtype='object')"
            ]
          },
          "metadata": {},
          "execution_count": 28
        }
      ]
    },
    {
      "cell_type": "code",
      "source": [
        "from sklearn.model_selection import train_test_split\n",
        "\n",
        "df = pd.read_csv(\"/gdrive/MyDrive/2023beaver/NLPpractice1/paki_ecommerce_clean.csv\")\n",
        "\n",
        "train_data, test_data = train_test_split(df, train_size=0.80, test_size=0.20, random_state=2)"
      ],
      "metadata": {
        "id": "bKJq12Q9dH6l"
      },
      "execution_count": null,
      "outputs": []
    },
    {
      "cell_type": "code",
      "source": [
        "df['sku'].max()"
      ],
      "metadata": {
        "colab": {
          "base_uri": "https://localhost:8080/",
          "height": 35
        },
        "id": "7C4HgC6Anyn0",
        "outputId": "9a1f1172-f5b5-486b-8bf0-daed45edcb5f"
      },
      "execution_count": null,
      "outputs": [
        {
          "output_type": "execute_result",
          "data": {
            "text/plain": [
              "'zuni16_319-A'"
            ],
            "application/vnd.google.colaboratory.intrinsic+json": {
              "type": "string"
            }
          },
          "metadata": {},
          "execution_count": 14
        }
      ]
    },
    {
      "cell_type": "code",
      "source": [
        "df['category_name_1'].value_counts(normalize=True)"
      ],
      "metadata": {
        "colab": {
          "base_uri": "https://localhost:8080/"
        },
        "id": "63Wv8SM1qH7W",
        "outputId": "0733368d-16d3-4625-ca76-46ff41c236d0"
      },
      "execution_count": null,
      "outputs": [
        {
          "output_type": "execute_result",
          "data": {
            "text/plain": [
              "Mobiles & Tablets     0.200709\n",
              "Men's Fashion         0.159965\n",
              "Women's Fashion       0.103591\n",
              "Appliances            0.090915\n",
              "Superstore            0.075650\n",
              "Beauty & Grooming     0.071978\n",
              "Soghaat               0.058995\n",
              "Others                0.050681\n",
              "Home & Living         0.045973\n",
              "Entertainment         0.045659\n",
              "Health & Sports       0.030359\n",
              "Kids & Baby           0.028610\n",
              "Computing             0.027637\n",
              "School & Education    0.006033\n",
              "Books                 0.003244\n",
              "Name: category_name_1, dtype: float64"
            ]
          },
          "metadata": {},
          "execution_count": 36
        }
      ]
    },
    {
      "cell_type": "code",
      "source": [
        "df_encoded['category_name_1'].value_counts()"
      ],
      "metadata": {
        "colab": {
          "base_uri": "https://localhost:8080/"
        },
        "id": "IbEGCtJDpkIP",
        "outputId": "60c3956d-21c4-4cf7-824a-31251e7c2cad"
      },
      "execution_count": null,
      "outputs": [
        {
          "output_type": "execute_result",
          "data": {
            "text/plain": [
              "4     115710\n",
              "7      92221\n",
              "1      59721\n",
              "5      52413\n",
              "12     43613\n",
              "2      41496\n",
              "3      34011\n",
              "9      29218\n",
              "6      26504\n",
              "10     26323\n",
              "13     17502\n",
              "8      16494\n",
              "11     15933\n",
              "15      3478\n",
              "14      1870\n",
              "Name: category_name_1, dtype: int64"
            ]
          },
          "metadata": {},
          "execution_count": 80
        }
      ]
    },
    {
      "cell_type": "code",
      "source": [
        "feature = 'sku'\n",
        "target = 'category_name_1'"
      ],
      "metadata": {
        "id": "qsUFR3ahd6sG"
      },
      "execution_count": null,
      "outputs": []
    },
    {
      "cell_type": "markdown",
      "source": [
        "# 토크나이저 선언"
      ],
      "metadata": {
        "id": "MlJEmAgSeOt2"
      }
    },
    {
      "cell_type": "markdown",
      "metadata": {
        "id": "hZbLCM5e7i6g"
      },
      "source": [
        "# 학습데이터 구축\n",
        "학습데이터를 만듭니다."
      ]
    },
    {
      "cell_type": "code",
      "source": [
        "intent_train = train_data[feature].tolist()\n",
        "label_train = train_data[target].tolist()\n",
        "intent_test = test_data[feature].tolist()\n",
        "label_test = test_data[target].tolist()"
      ],
      "metadata": {
        "id": "V20TQiDPk20H"
      },
      "execution_count": null,
      "outputs": []
    },
    {
      "cell_type": "code",
      "source": [
        "# 레 이 블 인 코 딩 . 레 이 블 에 고 유 한 정 수 를 부 여\n",
        "idx_encode = preprocessing.LabelEncoder()\n",
        "idx_encode.fit(label_train)\n",
        "\n",
        "label_train = idx_encode.transform(label_train) # 주 어 진 고 유 한 정 수 로 변 환\n",
        "label_test = idx_encode.transform(label_test) # 고 유 한 정 수 로 변 환\n",
        "\n",
        "label_idx = dict(zip(list(idx_encode.classes_), idx_encode.transform(list(\n",
        "idx_encode.classes_))))\n",
        "print(' 레 이 블 과 정 수 의 맵 핑 관 계 :',label_idx)"
      ],
      "metadata": {
        "colab": {
          "base_uri": "https://localhost:8080/"
        },
        "id": "GcvpSx46ktGS",
        "outputId": "11f55c63-dcbb-4eec-fa67-41d235d1674f"
      },
      "execution_count": null,
      "outputs": [
        {
          "output_type": "stream",
          "name": "stdout",
          "text": [
            " 레 이 블 과 정 수 의 맵 핑 관 계 : {'Appliances': 0, 'Beauty & Grooming': 1, 'Books': 2, 'Computing': 3, 'Entertainment': 4, 'Health & Sports': 5, 'Home & Living': 6, 'Kids & Baby': 7, \"Men's Fashion\": 8, 'Mobiles & Tablets': 9, 'Others': 10, 'School & Education': 11, 'Soghaat': 12, 'Superstore': 13, \"Women's Fashion\": 14}\n"
          ]
        }
      ]
    },
    {
      "cell_type": "code",
      "source": [
        "tokenizer = Tokenizer()\n",
        "tokenizer.fit_on_texts(intent_train)\n",
        "sequences = tokenizer.texts_to_sequences(intent_train)\n",
        "sequences[:5] # 상 위 5 개 샘 플 출 력"
      ],
      "metadata": {
        "colab": {
          "base_uri": "https://localhost:8080/"
        },
        "id": "znVH_cnrlFs7",
        "outputId": "4be5b797-2875-456c-9c28-e4b0694ed275"
      },
      "execution_count": null,
      "outputs": [
        {
          "output_type": "execute_result",
          "data": {
            "text/plain": [
              "[[521, 3094, 43, 334],\n",
              " [66, 302, 140, 271, 798, 1938],\n",
              " [137, 138, 199, 3],\n",
              " [1026],\n",
              " [35290]]"
            ]
          },
          "metadata": {},
          "execution_count": 8
        }
      ]
    },
    {
      "cell_type": "code",
      "source": [
        "word_index = tokenizer.word_index\n",
        "vocab_size = len(word_index) + 1\n",
        "print(' 단 어 집 합 (Vocabulary) 의 크 기 :',vocab_size)"
      ],
      "metadata": {
        "colab": {
          "base_uri": "https://localhost:8080/"
        },
        "id": "lW34MC75lW1-",
        "outputId": "0a5fb8bc-31af-4985-f11f-b5570806c64e"
      },
      "execution_count": null,
      "outputs": [
        {
          "output_type": "stream",
          "name": "stdout",
          "text": [
            " 단 어 집 합 (Vocabulary) 의 크 기 : 60862\n"
          ]
        }
      ]
    },
    {
      "cell_type": "code",
      "source": [
        "print(' 문 장 의 최 대 길 이 :',max(len(l) for l in sequences))\n",
        "print(' 문 장 의 평 균 길 이 :',sum(map(len, sequences))/len(sequences))\n",
        "plt.hist([len(s) for s in sequences], bins=50)\n",
        "plt.xlabel('length of samples')\n",
        "plt.ylabel('number of samples')\n",
        "plt.show()"
      ],
      "metadata": {
        "colab": {
          "base_uri": "https://localhost:8080/",
          "height": 315
        },
        "id": "xniMIsWZldrw",
        "outputId": "2b9d3324-be27-4a5d-dcc0-eeff147a54df"
      },
      "execution_count": null,
      "outputs": [
        {
          "output_type": "stream",
          "name": "stdout",
          "text": [
            " 문 장 의 최 대 길 이 : 15\n",
            " 문 장 의 평 균 길 이 : 2.6299953382985874\n"
          ]
        },
        {
          "output_type": "display_data",
          "data": {
            "text/plain": [
              "<Figure size 432x288 with 1 Axes>"
            ],
            "image/png": "[encoded data removed]"
          },
          "metadata": {
            "needs_background": "light"
          }
        }
      ]
    },
    {
      "cell_type": "code",
      "source": [
        "max_len = 15\n",
        "\n",
        "intent_train = pad_sequences(sequences, maxlen = max_len)\n",
        "label_train = to_categorical(np.asarray(label_train))\n",
        "print(' 훈 련 데 이 터 의 크 기 (shape):', intent_train.shape)\n",
        "print(' 훈 련 데 이 터 레 이 블 의 크 기 (shape):', label_train.shape)"
      ],
      "metadata": {
        "colab": {
          "base_uri": "https://localhost:8080/"
        },
        "id": "Y7k86XdElh_x",
        "outputId": "f49b7a97-be50-4460-e5fe-7883f5eeeee3"
      },
      "execution_count": null,
      "outputs": [
        {
          "output_type": "stream",
          "name": "stdout",
          "text": [
            " 훈 련 데 이 터 의 크 기 (shape): (461205, 15)\n",
            " 훈 련 데 이 터 레 이 블 의 크 기 (shape): (461205, 15)\n"
          ]
        }
      ]
    },
    {
      "cell_type": "code",
      "source": [
        "indices = np.arange(intent_train.shape[0])\n",
        "np.random.shuffle(indices)\n",
        "print(' 랜 덤 시 퀀 스 :',indices)"
      ],
      "metadata": {
        "colab": {
          "base_uri": "https://localhost:8080/"
        },
        "id": "xaGmSgt7lq8l",
        "outputId": "be04f5f3-d662-4cef-cee8-5fd9923b1b88"
      },
      "execution_count": null,
      "outputs": [
        {
          "output_type": "stream",
          "name": "stdout",
          "text": [
            " 랜 덤 시 퀀 스 : [455862  30327  58068 ...  51520 326898 192713]\n"
          ]
        }
      ]
    },
    {
      "cell_type": "code",
      "source": [
        "intent_train = intent_train[indices]\n",
        "label_train = label_train[indices]"
      ],
      "metadata": {
        "id": "3riH__sBl1aS"
      },
      "execution_count": null,
      "outputs": []
    },
    {
      "cell_type": "code",
      "source": [
        "n_of_val = int(0.1 * intent_train.shape[0])\n",
        "print(' 검 증 데 이 터 의 개 수 :',n_of_val)"
      ],
      "metadata": {
        "colab": {
          "base_uri": "https://localhost:8080/"
        },
        "id": "r4aEp7Ggl4Zf",
        "outputId": "e740a447-0343-4e70-a82f-cdc1977e9feb"
      },
      "execution_count": null,
      "outputs": [
        {
          "output_type": "stream",
          "name": "stdout",
          "text": [
            " 검 증 데 이 터 의 개 수 : 46120\n"
          ]
        }
      ]
    },
    {
      "cell_type": "code",
      "source": [
        "X_train = intent_train[:-n_of_val]\n",
        "y_train = label_train[:-n_of_val]\n",
        "X_val = intent_train[-n_of_val:]\n",
        "y_val = label_train[-n_of_val:]\n",
        "X_test = intent_test\n",
        "y_test = label_test\n",
        "print(' 훈 련 데 이 터 의 크 기 (shape):', X_train.shape)\n",
        "print(' 검 증 데 이 터 의 크 기 (shape):', X_val.shape)\n",
        "print(' 훈 련 데 이 터 레 이 블 의 크 기 (shape):', y_train.shape)\n",
        "print(' 검 증 데 이 터 레 이 블 의 크 기 (shape):', y_val.shape)\n",
        "print(' 테 스 트 데 이 터 의 개 수 :', len(X_test))\n",
        "print(' 테 스 트 데 이 터 레 이 블 의 개 수 :', len(y_test))"
      ],
      "metadata": {
        "colab": {
          "base_uri": "https://localhost:8080/"
        },
        "id": "VORHVenBl-hq",
        "outputId": "aa12a5d2-5493-47de-8091-6d98e03c5bc0"
      },
      "execution_count": null,
      "outputs": [
        {
          "output_type": "stream",
          "name": "stdout",
          "text": [
            " 훈 련 데 이 터 의 크 기 (shape): (415085, 15)\n",
            " 검 증 데 이 터 의 크 기 (shape): (46120, 15)\n",
            " 훈 련 데 이 터 레 이 블 의 크 기 (shape): (415085, 15)\n",
            " 검 증 데 이 터 레 이 블 의 크 기 (shape): (46120, 15)\n",
            " 테 스 트 데 이 터 의 개 수 : 115302\n",
            " 테 스 트 데 이 터 레 이 블 의 개 수 : 115302\n"
          ]
        }
      ]
    },
    {
      "cell_type": "code",
      "source": [
        "!wget http://nlp.stanford.edu/data/glove.6B.zip\n",
        "!unzip glove*.zip"
      ],
      "metadata": {
        "colab": {
          "base_uri": "https://localhost:8080/"
        },
        "id": "9nyfWE7FmCMS",
        "outputId": "63219cb8-d40d-4abb-f5c4-a1d27f4353c1"
      },
      "execution_count": null,
      "outputs": [
        {
          "output_type": "stream",
          "name": "stdout",
          "text": [
            "--2022-12-19 13:35:11--  http://nlp.stanford.edu/data/glove.6B.zip\n",
            "Resolving nlp.stanford.edu (nlp.stanford.edu)... 171.64.67.140\n",
            "Connecting to nlp.stanford.edu (nlp.stanford.edu)|171.64.67.140|:80... connected.\n",
            "HTTP request sent, awaiting response... 302 Found\n",
            "Location: https://nlp.stanford.edu/data/glove.6B.zip [following]\n",
            "--2022-12-19 13:35:11--  https://nlp.stanford.edu/data/glove.6B.zip\n",
            "Connecting to nlp.stanford.edu (nlp.stanford.edu)|171.64.67.140|:443... connected.\n",
            "HTTP request sent, awaiting response... 301 Moved Permanently\n",
            "Location: https://downloads.cs.stanford.edu/nlp/data/glove.6B.zip [following]\n",
            "--2022-12-19 13:35:12--  https://downloads.cs.stanford.edu/nlp/data/glove.6B.zip\n",
            "Resolving downloads.cs.stanford.edu (downloads.cs.stanford.edu)... 171.64.64.22\n",
            "Connecting to downloads.cs.stanford.edu (downloads.cs.stanford.edu)|171.64.64.22|:443... connected.\n",
            "HTTP request sent, awaiting response... 200 OK\n",
            "Length: 862182613 (822M) [application/zip]\n",
            "Saving to: ‘glove.6B.zip’\n",
            "\n",
            "glove.6B.zip        100%[===================>] 822.24M  5.13MB/s    in 3m 4s   \n",
            "\n",
            "2022-12-19 13:38:17 (4.48 MB/s) - ‘glove.6B.zip’ saved [862182613/862182613]\n",
            "\n",
            "Archive:  glove.6B.zip\n",
            "  inflating: glove.6B.50d.txt        \n",
            "  inflating: glove.6B.100d.txt       \n",
            "  inflating: glove.6B.200d.txt       \n",
            "  inflating: glove.6B.300d.txt       \n"
          ]
        }
      ]
    },
    {
      "cell_type": "code",
      "source": [
        "embedding_dict = dict()\n",
        "f = open(os.path.join('glove.6B.100d.txt'), encoding='utf-8')\n",
        "for line in f:\n",
        "    word_vector = line.split()\n",
        "    word = word_vector[0]\n",
        "    word_vector_arr = np.asarray(word_vector[1:], dtype='float32') # 100 개 의 값을 가 지 는 array 로 변 환\n",
        "    embedding_dict[word] = word_vector_arr\n",
        "    \n",
        "f.close()\n",
        "\n",
        "print('%s 개 의 Embedding vector 가 있 습 니 다 .' % len(embedding_dict))"
      ],
      "metadata": {
        "colab": {
          "base_uri": "https://localhost:8080/"
        },
        "id": "7_bDe57hmKzK",
        "outputId": "7397f674-48a2-4efa-fadb-ff33b729bc7b"
      },
      "execution_count": null,
      "outputs": [
        {
          "output_type": "stream",
          "name": "stdout",
          "text": [
            "400000 개 의 Embedding vector 가 있 습 니 다 .\n"
          ]
        }
      ]
    },
    {
      "cell_type": "code",
      "source": [
        "print(embedding_dict['respectable'])\n",
        "print(len(embedding_dict['respectable']))"
      ],
      "metadata": {
        "colab": {
          "base_uri": "https://localhost:8080/"
        },
        "id": "kp6pxMAwmbnO",
        "outputId": "9802a4ba-a9fa-4a37-8a66-6b42583be40c"
      },
      "execution_count": null,
      "outputs": [
        {
          "output_type": "stream",
          "name": "stdout",
          "text": [
            "[-0.049773   0.19903    0.10585    0.1391    -0.32395    0.44053\n",
            "  0.3947    -0.22805   -0.25793    0.49768    0.15384   -0.08831\n",
            "  0.0782    -0.8299    -0.037788   0.16772   -0.45197   -0.17085\n",
            "  0.74756    0.98256    0.81872    0.28507    0.16178   -0.48626\n",
            " -0.006265  -0.92469   -0.30625   -0.067318  -0.046762  -0.76291\n",
            " -0.0025264 -0.018795   0.12882   -0.52457    0.3586     0.43119\n",
            " -0.89477   -0.057421  -0.53724    0.25587    0.55195    0.44698\n",
            " -0.24252    0.29946    0.25776   -0.8717     0.68426   -0.05688\n",
            " -0.1848    -0.59352   -0.11227   -0.57692   -0.013593   0.18488\n",
            " -0.32507   -0.90171    0.17672    0.075601   0.54896   -0.21488\n",
            " -0.54018   -0.45882   -0.79536    0.26331    0.18879   -0.16363\n",
            "  0.3975     0.1099     0.1164    -0.083499   0.50159    0.35802\n",
            "  0.25677    0.088546   0.42108    0.28674   -0.71285   -0.82915\n",
            "  0.15297   -0.82712    0.022112   1.067     -0.31776    0.1211\n",
            " -0.069755  -0.61327    0.27308   -0.42638   -0.085084  -0.17694\n",
            " -0.0090944  0.1109     0.62543   -0.23682   -0.44928   -0.3667\n",
            " -0.21616   -0.19187   -0.032502   0.38025  ]\n",
            "100\n"
          ]
        }
      ]
    },
    {
      "cell_type": "code",
      "source": [
        "embedding_dim = 100\n",
        "embedding_matrix = np.zeros((vocab_size, embedding_dim))\n",
        "print(' 임 베 딩 테 이 블 의 크 기 (shape) :',np.shape(embedding_matrix))"
      ],
      "metadata": {
        "colab": {
          "base_uri": "https://localhost:8080/"
        },
        "id": "YN6DMOMomeDl",
        "outputId": "37d2d175-5553-430d-a857-aefc9333e22f"
      },
      "execution_count": null,
      "outputs": [
        {
          "output_type": "stream",
          "name": "stdout",
          "text": [
            " 임 베 딩 테 이 블 의 크 기 (shape) : (60862, 100)\n"
          ]
        }
      ]
    },
    {
      "cell_type": "code",
      "source": [
        "for word, i in word_index.items():\n",
        "    embedding_vector = embedding_dict.get(word)\n",
        "    if embedding_vector is not None:\n",
        "        embedding_matrix[i] = embedding_vector"
      ],
      "metadata": {
        "id": "osXy1Vg3misD"
      },
      "execution_count": null,
      "outputs": []
    },
    {
      "cell_type": "code",
      "source": [
        "!pip install tensorflow"
      ],
      "metadata": {
        "id": "1QROKOUgnSla"
      },
      "execution_count": null,
      "outputs": []
    },
    {
      "cell_type": "markdown",
      "source": [
        "## Mulit-Kernel 1D CNN 구조"
      ],
      "metadata": {
        "id": "XFVgD9o-m6YR"
      }
    },
    {
      "cell_type": "code",
      "source": [
        "from tensorflow.keras.models import Model\n",
        "from tensorflow.keras.layers import Embedding, Dropout, Conv1D,GlobalMaxPooling1D, Dense, Input, Flatten, Concatenate\n",
        "\n",
        "kernel_sizes = [2, 3, 5]\n",
        "num_filters = 512\n",
        "dropout_ratio = 0.5\n",
        "\n",
        "model_input = Input(shape=(max_len,))\n",
        "output = Embedding(vocab_size, embedding_dim, weights=[embedding_matrix],\n",
        "input_length=max_len, trainable=False)(model_input)\n",
        "\n",
        "conv_blocks = []\n",
        "\n",
        "for size in kernel_sizes:\n",
        "    conv = Conv1D(filters=num_filters,\n",
        "                          kernel_size=size,\n",
        "                          padding=\"valid\",\n",
        "                          activation=\"relu\",\n",
        "                          strides=1)(output)\n",
        "    conv = GlobalMaxPooling1D()(conv)\n",
        "    conv_blocks.append(conv)\n",
        "\n",
        "output = Concatenate()(conv_blocks) if len(conv_blocks) > 1 else conv_blocks[0]\n",
        "output = Dropout(dropout_ratio)(output)\n",
        "model_output = Dense(len(label_idx), activation='softmax')(output)\n",
        "model = Model(model_input, model_output)\n",
        "\n",
        "model.compile(loss='categorical_crossentropy', optimizer='adam', metrics=['acc'])\n",
        "model.summary()"
      ],
      "metadata": {
        "colab": {
          "base_uri": "https://localhost:8080/"
        },
        "id": "zyz0Qd2nnAba",
        "outputId": "a8d12e1b-75ed-4392-fe1a-af5e4a6e748d"
      },
      "execution_count": null,
      "outputs": [
        {
          "output_type": "stream",
          "name": "stdout",
          "text": [
            "Model: \"model_1\"\n",
            "__________________________________________________________________________________________________\n",
            " Layer (type)                   Output Shape         Param #     Connected to                     \n",
            "==================================================================================================\n",
            " input_2 (InputLayer)           [(None, 15)]         0           []                               \n",
            "                                                                                                  \n",
            " embedding_1 (Embedding)        (None, 15, 100)      6086200     ['input_2[0][0]']                \n",
            "                                                                                                  \n",
            " conv1d_3 (Conv1D)              (None, 14, 512)      102912      ['embedding_1[0][0]']            \n",
            "                                                                                                  \n",
            " conv1d_4 (Conv1D)              (None, 13, 512)      154112      ['embedding_1[0][0]']            \n",
            "                                                                                                  \n",
            " conv1d_5 (Conv1D)              (None, 11, 512)      256512      ['embedding_1[0][0]']            \n",
            "                                                                                                  \n",
            " global_max_pooling1d_3 (Global  (None, 512)         0           ['conv1d_3[0][0]']               \n",
            " MaxPooling1D)                                                                                    \n",
            "                                                                                                  \n",
            " global_max_pooling1d_4 (Global  (None, 512)         0           ['conv1d_4[0][0]']               \n",
            " MaxPooling1D)                                                                                    \n",
            "                                                                                                  \n",
            " global_max_pooling1d_5 (Global  (None, 512)         0           ['conv1d_5[0][0]']               \n",
            " MaxPooling1D)                                                                                    \n",
            "                                                                                                  \n",
            " concatenate_1 (Concatenate)    (None, 1536)         0           ['global_max_pooling1d_3[0][0]', \n",
            "                                                                  'global_max_pooling1d_4[0][0]', \n",
            "                                                                  'global_max_pooling1d_5[0][0]'] \n",
            "                                                                                                  \n",
            " dropout_1 (Dropout)            (None, 1536)         0           ['concatenate_1[0][0]']          \n",
            "                                                                                                  \n",
            " dense_1 (Dense)                (None, 15)           23055       ['dropout_1[0][0]']              \n",
            "                                                                                                  \n",
            "==================================================================================================\n",
            "Total params: 6,622,791\n",
            "Trainable params: 536,591\n",
            "Non-trainable params: 6,086,200\n",
            "__________________________________________________________________________________________________\n"
          ]
        }
      ]
    },
    {
      "cell_type": "markdown",
      "metadata": {
        "id": "HztMCywb70e9"
      },
      "source": [
        "# 모델 초기화\n",
        "프리트레인이 완료된 BERT 모델을 읽고, 문서 분류를 수행할 모델을 초기화합니다."
      ]
    },
    {
      "cell_type": "markdown",
      "metadata": {
        "id": "lYtJXijM8PN8"
      },
      "source": [
        "# 학습 준비\n",
        "Task와 Trainer를 준비합니다."
      ]
    },
    {
      "cell_type": "markdown",
      "metadata": {
        "id": "KteHdhBT8X0e"
      },
      "source": [
        "# 학습\n",
        "준비한 데이터와 모델로 학습을 시작합니다. 학습 결과물(체크포인트)은 미리 연동해둔 구글 드라이브의 준비된 위치(`/gdrive/My Drive/nlpbook/checkpoint-doccls`)에 저장됩니다."
      ]
    },
    {
      "cell_type": "code",
      "source": [
        "import os\n",
        "import tensorflow as tf\n",
        "from tensorflow import keras\n",
        "from tensorflow.keras.callbacks import EarlyStopping, ModelCheckpoint\n",
        "\n",
        "checkpoint_path = \"/gdrive/MyDrive/2023beaver/NLPpractice1/cp.ckpt\"\n",
        "checkpoint_dir = os.path.dirname(checkpoint_path)\n",
        "\n",
        "# 모델의 가중치를 저장하는 콜백 만들기\n",
        "cp_callback = tf.keras.callbacks.ModelCheckpoint(filepath=checkpoint_path,\n",
        "                                                 save_weights_only=True,\n",
        "                                                 verbose=1)"
      ],
      "metadata": {
        "id": "4mJmt-Ndxgqw"
      },
      "execution_count": null,
      "outputs": []
    },
    {
      "cell_type": "code",
      "source": [
        "early_stopping = EarlyStopping(\n",
        "        monitor=\"val_acc\",\n",
        "        min_delta=0.001,\n",
        "        patience=2)"
      ],
      "metadata": {
        "id": "jlDg9WBgtjXR"
      },
      "execution_count": null,
      "outputs": []
    },
    {
      "cell_type": "code",
      "source": [
        "# Loads the weights\n",
        "model.load_weights(checkpoint_path)# Re-evaluate the model"
      ],
      "metadata": {
        "colab": {
          "base_uri": "https://localhost:8080/"
        },
        "id": "xOfCDPtdqjLX",
        "outputId": "0dc80cbd-e608-4cbc-dccc-9c02ec50026e"
      },
      "execution_count": null,
      "outputs": [
        {
          "output_type": "execute_result",
          "data": {
            "text/plain": [
              "<tensorflow.python.training.tracking.util.CheckpointLoadStatus at 0x7fbff3c73790>"
            ]
          },
          "metadata": {},
          "execution_count": 28
        }
      ]
    },
    {
      "cell_type": "code",
      "source": [
        "history = model.fit(X_train, y_train,\n",
        "  batch_size=32,\n",
        "  epochs=10,\n",
        "  validation_data=(X_val, y_val),\n",
        "  callbacks=[cp_callback, early_stopping])"
      ],
      "metadata": {
        "colab": {
          "base_uri": "https://localhost:8080/"
        },
        "id": "7N8vRcSmo55p",
        "outputId": "38633127-019a-4823-a705-239fcf0db100"
      },
      "execution_count": null,
      "outputs": [
        {
          "output_type": "stream",
          "name": "stdout",
          "text": [
            "Epoch 1/10\n",
            "12972/12972 [==============================] - ETA: 0s - loss: 1.1826 - acc: 0.6237\n",
            "Epoch 1: saving model to /gdrive/MyDrive/2023beaver/NLPpractice1/cp.ckpt\n",
            "12972/12972 [==============================] - 65s 5ms/step - loss: 1.1826 - acc: 0.6237 - val_loss: 1.1794 - val_acc: 0.6279\n",
            "Epoch 2/10\n",
            "12972/12972 [==============================] - ETA: 0s - loss: 1.1853 - acc: 0.6237\n",
            "Epoch 2: saving model to /gdrive/MyDrive/2023beaver/NLPpractice1/cp.ckpt\n",
            "12972/12972 [==============================] - 67s 5ms/step - loss: 1.1853 - acc: 0.6237 - val_loss: 1.1785 - val_acc: 0.6278\n",
            "Epoch 3/10\n",
            "12968/12972 [============================>.] - ETA: 0s - loss: 1.1854 - acc: 0.6238\n",
            "Epoch 3: saving model to /gdrive/MyDrive/2023beaver/NLPpractice1/cp.ckpt\n",
            "12972/12972 [==============================] - 66s 5ms/step - loss: 1.1853 - acc: 0.6238 - val_loss: 1.1814 - val_acc: 0.6291\n",
            "Epoch 4/10\n",
            "12966/12972 [============================>.] - ETA: 0s - loss: 1.1865 - acc: 0.6237\n",
            "Epoch 4: saving model to /gdrive/MyDrive/2023beaver/NLPpractice1/cp.ckpt\n",
            "12972/12972 [==============================] - 65s 5ms/step - loss: 1.1865 - acc: 0.6237 - val_loss: 1.1833 - val_acc: 0.6279\n",
            "Epoch 5/10\n",
            "12964/12972 [============================>.] - ETA: 0s - loss: 1.1866 - acc: 0.6238\n",
            "Epoch 5: saving model to /gdrive/MyDrive/2023beaver/NLPpractice1/cp.ckpt\n",
            "12972/12972 [==============================] - 65s 5ms/step - loss: 1.1867 - acc: 0.6237 - val_loss: 1.1828 - val_acc: 0.6295\n"
          ]
        }
      ]
    },
    {
      "cell_type": "markdown",
      "source": [
        "fit 에서 epochs 는 반복횟수를 의미하며 같은 데이터셋이라도 파라미터를 조정하며 성능이 올라갈 수 있다. 그러나 횟수가 많아질경우 과적합이 일어난다. 이를 early_stooping이 방지할 수 있다."
      ],
      "metadata": {
        "id": "5Vn8ueui4yJ4"
      }
    },
    {
      "cell_type": "markdown",
      "source": [
        "batch_size는 레이블에 대한 비교할 데이터 갯수와 가중치 갱신 갯수인데, 작을수록 업데이트가 빨라지기에 전체 속도가 느려지고\n",
        "\n",
        "클수록 업데이트는 늦어지지만 용량이 커지게 된다"
      ],
      "metadata": {
        "id": "VM16iF5M5Hbi"
      }
    },
    {
      "cell_type": "code",
      "source": [
        "epochs = range(1, len(history.history['acc']) + 1)\n",
        "plt.plot(epochs, history.history['acc'])\n",
        "plt.plot(epochs, history.history['val_acc'])\n",
        "plt.title('model accuracy')\n",
        "plt.ylabel('accuracy')\n",
        "plt.xlabel('epochs')\n",
        "plt.legend(['train', 'test'], loc='lower right')\n",
        "plt.show()\n",
        "\n",
        "epochs = range(1, len(history.history['loss']) + 1)\n",
        "plt.plot(epochs, history.history['loss'])\n",
        "plt.plot(epochs, history.history['val_loss'])\n",
        "plt.title('model loss')\n",
        "plt.ylabel('loss')\n",
        "plt.xlabel('epochs')\n",
        "plt.legend(['train', 'test'], loc='upper right')\n",
        "plt.show()"
      ],
      "metadata": {
        "colab": {
          "base_uri": "https://localhost:8080/",
          "height": 573
        },
        "id": "sAq3cwncyin-",
        "outputId": "8a225786-0b08-47f6-fbb1-dc97b934e61b"
      },
      "execution_count": null,
      "outputs": [
        {
          "output_type": "display_data",
          "data": {
            "text/plain": [
              "<Figure size 432x288 with 1 Axes>"
            ],
            "image/png": "[encoded data removed]"
          },
          "metadata": {
            "needs_background": "light"
          }
        },
        {
          "output_type": "display_data",
          "data": {
            "text/plain": [
              "<Figure size 432x288 with 1 Axes>"
            ],
            "image/png": "[encoded data removed]"
          },
          "metadata": {
            "needs_background": "light"
          }
        }
      ]
    },
    {
      "cell_type": "code",
      "source": [
        "X_test = tokenizer.texts_to_sequences(X_test)\n",
        "X_test = pad_sequences(X_test, maxlen=max_len)"
      ],
      "metadata": {
        "id": "SloE81p5yz-H"
      },
      "execution_count": null,
      "outputs": []
    },
    {
      "cell_type": "code",
      "source": [
        "y_predicted = model.predict(X_test)\n",
        "y_predicted = y_predicted.argmax(axis=-1) # 예 측 을 정 수 시 퀀 스 로 변 환"
      ],
      "metadata": {
        "colab": {
          "base_uri": "https://localhost:8080/"
        },
        "id": "sHwgNxdSy3xQ",
        "outputId": "9af259f6-1458-4836-c102-3d09d94f3507"
      },
      "execution_count": null,
      "outputs": [
        {
          "output_type": "stream",
          "name": "stdout",
          "text": [
            "3604/3604 [==============================] - 7s 2ms/step\n"
          ]
        }
      ]
    },
    {
      "cell_type": "code",
      "source": [
        "print(' 정 확 도 (Accuracy) : ', sum(y_predicted == y_test) / len(y_test))"
      ],
      "metadata": {
        "colab": {
          "base_uri": "https://localhost:8080/"
        },
        "id": "KRKG--0yy7xJ",
        "outputId": "00a5cb19-b2d8-4dc9-f30a-111189f9b466"
      },
      "execution_count": null,
      "outputs": [
        {
          "output_type": "stream",
          "name": "stdout",
          "text": [
            " 정 확 도 (Accuracy) :  0.6213595601117067\n"
          ]
        }
      ]
    },
    {
      "cell_type": "markdown",
      "source": [
        "기준모델(최빈값) : 0.2\n",
        "\n",
        "1차로 그냥 실행시킨 상태로는 0.62의 정확도를 보인다.\n",
        "\n",
        "분명 기준모델보다는 향상되었지만 일반적인 상황에서 0.95 정도의 정확도는 되어야 유의미한 성능이라고 생각한다.\n",
        "\n",
        "데이터 정제를 좀 더 해야하는건가? 모델의 문제인가? 고민을 해봐야겠다."
      ],
      "metadata": {
        "id": "QiGQ6FYmzEHJ"
      }
    },
    {
      "cell_type": "code",
      "source": [
        "model.save_pretrained('/gdrive/MyDrive/2023beaver/NLPpractice1/paki_bert_base_uncased.h5')"
      ],
      "metadata": {
        "id": "h2ozAAFe9D3e"
      },
      "execution_count": null,
      "outputs": []
    }
  ]
}